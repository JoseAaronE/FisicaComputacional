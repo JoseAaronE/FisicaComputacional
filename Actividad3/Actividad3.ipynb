{
  "nbformat": 4,
  "nbformat_minor": 0,
  "metadata": {
    "colab": {
      "name": "Actividad3.ipynb",
      "provenance": [],
      "authorship_tag": "ABX9TyOW1vbn0i8Ao2mH1bSOyQsv",
      "include_colab_link": true
    },
    "kernelspec": {
      "name": "python3",
      "display_name": "Python 3"
    }
  },
  "cells": [
    {
      "cell_type": "markdown",
      "metadata": {
        "id": "view-in-github",
        "colab_type": "text"
      },
      "source": [
        "<a href=\"https://colab.research.google.com/github/JoseAaronE/FisicaComputacional/blob/master/Actividad3.ipynb\" target=\"_parent\"><img src=\"https://colab.research.google.com/assets/colab-badge.svg\" alt=\"Open In Colab\"/></a>"
      ]
    },
    {
      "cell_type": "markdown",
      "metadata": {
        "id": "xVKk_NtHGWhu"
      },
      "source": [
        "# Actividad 3\r\n",
        "\r\n",
        "Esquivel Ovilla José Aarón "
      ]
    },
    {
      "cell_type": "code",
      "metadata": {
        "id": "jHj8L60U_FUV"
      },
      "source": [
        "import numpy as np\r\n",
        "import pandas as pd\r\n"
      ],
      "execution_count": 11,
      "outputs": []
    },
    {
      "cell_type": "code",
      "metadata": {
        "id": "ZPowz8dr_GKl"
      },
      "source": [
        "#tenemos que importar el archivo que queremos en formato \r\n",
        "#lo guardamos en una variable llamada url\r\n",
        "url= \"https://raw.githubusercontent.com/JoseAaronE/FisicaComputacional/master/Actividad1/Estacion3016datos.txt\"\r\n",
        "#cambiamos el nombre a las columnas \r\n",
        "type_data = ['Fecha', 'Precip', 'Evap', 'Tmax', 'Tmin']\r\n",
        "# sep='\\s+' da espacio en los datos \r\n",
        "#skiprows=19 empezar en la linea 19\r\n",
        "#skipfooter=1  decimos que en el ultimo no hay encabezado \r\n",
        "#header=None \r\n",
        "# engine='python' procesar datos usando python\r\n",
        "df = pd.read_csv(url, names=type_data,encoding='cp1251', sep='\\s+', header=None, skiprows=19, skipfooter=1, engine='python')\r\n",
        "\r\n",
        "\r\n"
      ],
      "execution_count": 12,
      "outputs": []
    },
    {
      "cell_type": "markdown",
      "metadata": {
        "id": "E5b_SuP49Nkx"
      },
      "source": [
        "# Imprime el encabezado y final del dataframe"
      ]
    },
    {
      "cell_type": "code",
      "metadata": {
        "colab": {
          "base_uri": "https://localhost:8080/"
        },
        "id": "Uuzlfo7b9S0P",
        "outputId": "925b5b57-2808-47ac-8d9d-4e03c1fc432a"
      },
      "source": [
        "\r\n",
        "#imprimimos las priemras cinco listas \r\n",
        "print(df.head())\r\n",
        "#imprimimos las ultimas cinco listas \r\n",
        "print(df.tail())"
      ],
      "execution_count": 15,
      "outputs": [
        {
          "output_type": "stream",
          "text": [
            "        Fecha Precip  Evap Tmax  Tmin\n",
            "0  10/07/1941      0  Nulo   41  Nulo\n",
            "1  11/07/1941      0  Nulo   42    24\n",
            "2  12/07/1941      0  Nulo   41    31\n",
            "3  13/07/1941      0  Nulo   39    28\n",
            "4  14/07/1941      0  Nulo   39    27\n",
            "            Fecha Precip  Evap Tmax Tmin\n",
            "27161  27/12/2017      0  Nulo   27   10\n",
            "27162  28/12/2017      0  Nulo   29   11\n",
            "27163  29/12/2017      0  Nulo   29   11\n",
            "27164  30/12/2017      0  Nulo   30    9\n",
            "27165  31/12/2017      0  Nulo   32   10\n"
          ],
          "name": "stdout"
        }
      ]
    },
    {
      "cell_type": "markdown",
      "metadata": {
        "id": "wRAqPuMokZrU"
      },
      "source": [
        "# ¿Qué dimensiones tiene tu dataframe?\r\n",
        " usamos:  df.shape para obtener las dimensiones "
      ]
    },
    {
      "cell_type": "code",
      "metadata": {
        "colab": {
          "base_uri": "https://localhost:8080/"
        },
        "id": "m6oEVjRtkrBF",
        "outputId": "4e8c3e04-d8d4-4c93-cc68-c5770503575d"
      },
      "source": [
        "#comando para poder ver las dimensiones del archivo (renglones,columnas)\r\n",
        "df.shape"
      ],
      "execution_count": 17,
      "outputs": [
        {
          "output_type": "execute_result",
          "data": {
            "text/plain": [
              "(27166, 5)"
            ]
          },
          "metadata": {
            "tags": []
          },
          "execution_count": 17
        }
      ]
    },
    {
      "cell_type": "markdown",
      "metadata": {
        "id": "t4npNNx8mQ4z"
      },
      "source": [
        "# ¿Cómo es el contenido de tu dataframe?\r\n",
        "Usamos: df.info()"
      ]
    },
    {
      "cell_type": "code",
      "metadata": {
        "colab": {
          "base_uri": "https://localhost:8080/"
        },
        "id": "tv56hYqMmb3R",
        "outputId": "25dce080-1648-492e-d64b-731bd4bb7f7b"
      },
      "source": [
        "#usamos este comando para poder visualizar la información de nuestro dataframe\r\n",
        "df.info()"
      ],
      "execution_count": 18,
      "outputs": [
        {
          "output_type": "stream",
          "text": [
            "<class 'pandas.core.frame.DataFrame'>\n",
            "RangeIndex: 27166 entries, 0 to 27165\n",
            "Data columns (total 5 columns):\n",
            " #   Column  Non-Null Count  Dtype \n",
            "---  ------  --------------  ----- \n",
            " 0   Fecha   27166 non-null  object\n",
            " 1   Precip  27166 non-null  object\n",
            " 2   Evap    27166 non-null  object\n",
            " 3   Tmax    27166 non-null  object\n",
            " 4   Tmin    27166 non-null  object\n",
            "dtypes: object(5)\n",
            "memory usage: 1.0+ MB\n"
          ],
          "name": "stdout"
        }
      ]
    },
    {
      "cell_type": "markdown",
      "metadata": {
        "id": "8P3xe1lJL80L"
      },
      "source": [
        "# Reemplazar un caracter \r\n",
        "\r\n",
        "Los datos originales incluyen la cadena de caracteres 'Nulo', indicando que no hubo datos para esa variable, ese día. Tenemos que reemplazar la palabra nulo con la función: df.replace()"
      ]
    },
    {
      "cell_type": "code",
      "metadata": {
        "colab": {
          "base_uri": "https://localhost:8080/",
          "height": 204
        },
        "id": "vHwtpCcJMXUH",
        "outputId": "c8da86d7-e3da-4f8e-bbe2-9f4c8b2f8d22"
      },
      "source": [
        "#Primero hacemos una copia del archivo\r\n",
        "df_work0 = df.copy()\r\n",
        "#imprimimos la copia del archivo\r\n",
        "df_work0.head()"
      ],
      "execution_count": 19,
      "outputs": [
        {
          "output_type": "execute_result",
          "data": {
            "text/html": [
              "<div>\n",
              "<style scoped>\n",
              "    .dataframe tbody tr th:only-of-type {\n",
              "        vertical-align: middle;\n",
              "    }\n",
              "\n",
              "    .dataframe tbody tr th {\n",
              "        vertical-align: top;\n",
              "    }\n",
              "\n",
              "    .dataframe thead th {\n",
              "        text-align: right;\n",
              "    }\n",
              "</style>\n",
              "<table border=\"1\" class=\"dataframe\">\n",
              "  <thead>\n",
              "    <tr style=\"text-align: right;\">\n",
              "      <th></th>\n",
              "      <th>Fecha</th>\n",
              "      <th>Precip</th>\n",
              "      <th>Evap</th>\n",
              "      <th>Tmax</th>\n",
              "      <th>Tmin</th>\n",
              "    </tr>\n",
              "  </thead>\n",
              "  <tbody>\n",
              "    <tr>\n",
              "      <th>0</th>\n",
              "      <td>10/07/1941</td>\n",
              "      <td>0</td>\n",
              "      <td>Nulo</td>\n",
              "      <td>41</td>\n",
              "      <td>Nulo</td>\n",
              "    </tr>\n",
              "    <tr>\n",
              "      <th>1</th>\n",
              "      <td>11/07/1941</td>\n",
              "      <td>0</td>\n",
              "      <td>Nulo</td>\n",
              "      <td>42</td>\n",
              "      <td>24</td>\n",
              "    </tr>\n",
              "    <tr>\n",
              "      <th>2</th>\n",
              "      <td>12/07/1941</td>\n",
              "      <td>0</td>\n",
              "      <td>Nulo</td>\n",
              "      <td>41</td>\n",
              "      <td>31</td>\n",
              "    </tr>\n",
              "    <tr>\n",
              "      <th>3</th>\n",
              "      <td>13/07/1941</td>\n",
              "      <td>0</td>\n",
              "      <td>Nulo</td>\n",
              "      <td>39</td>\n",
              "      <td>28</td>\n",
              "    </tr>\n",
              "    <tr>\n",
              "      <th>4</th>\n",
              "      <td>14/07/1941</td>\n",
              "      <td>0</td>\n",
              "      <td>Nulo</td>\n",
              "      <td>39</td>\n",
              "      <td>27</td>\n",
              "    </tr>\n",
              "  </tbody>\n",
              "</table>\n",
              "</div>"
            ],
            "text/plain": [
              "        Fecha Precip  Evap Tmax  Tmin\n",
              "0  10/07/1941      0  Nulo   41  Nulo\n",
              "1  11/07/1941      0  Nulo   42    24\n",
              "2  12/07/1941      0  Nulo   41    31\n",
              "3  13/07/1941      0  Nulo   39    28\n",
              "4  14/07/1941      0  Nulo   39    27"
            ]
          },
          "metadata": {
            "tags": []
          },
          "execution_count": 19
        }
      ]
    },
    {
      "cell_type": "code",
      "metadata": {
        "colab": {
          "base_uri": "https://localhost:8080/",
          "height": 204
        },
        "id": "e9W3aBeXM-bf",
        "outputId": "fa5cfd1e-8292-4f2d-dd4c-f83d3b89643f"
      },
      "source": [
        "#vamos a reemplazar los textos donde dice nulo\r\n",
        "str_Nulo= \"Nulo\"\r\n",
        "#guardamos el nuevo archivo reemplazado en una variable\r\n",
        "df_work1 = df_work0.replace(to_replace=str_Nulo, value='', regex=True)\r\n",
        "df_work1.head()"
      ],
      "execution_count": 20,
      "outputs": [
        {
          "output_type": "execute_result",
          "data": {
            "text/html": [
              "<div>\n",
              "<style scoped>\n",
              "    .dataframe tbody tr th:only-of-type {\n",
              "        vertical-align: middle;\n",
              "    }\n",
              "\n",
              "    .dataframe tbody tr th {\n",
              "        vertical-align: top;\n",
              "    }\n",
              "\n",
              "    .dataframe thead th {\n",
              "        text-align: right;\n",
              "    }\n",
              "</style>\n",
              "<table border=\"1\" class=\"dataframe\">\n",
              "  <thead>\n",
              "    <tr style=\"text-align: right;\">\n",
              "      <th></th>\n",
              "      <th>Fecha</th>\n",
              "      <th>Precip</th>\n",
              "      <th>Evap</th>\n",
              "      <th>Tmax</th>\n",
              "      <th>Tmin</th>\n",
              "    </tr>\n",
              "  </thead>\n",
              "  <tbody>\n",
              "    <tr>\n",
              "      <th>0</th>\n",
              "      <td>10/07/1941</td>\n",
              "      <td>0</td>\n",
              "      <td></td>\n",
              "      <td>41</td>\n",
              "      <td></td>\n",
              "    </tr>\n",
              "    <tr>\n",
              "      <th>1</th>\n",
              "      <td>11/07/1941</td>\n",
              "      <td>0</td>\n",
              "      <td></td>\n",
              "      <td>42</td>\n",
              "      <td>24</td>\n",
              "    </tr>\n",
              "    <tr>\n",
              "      <th>2</th>\n",
              "      <td>12/07/1941</td>\n",
              "      <td>0</td>\n",
              "      <td></td>\n",
              "      <td>41</td>\n",
              "      <td>31</td>\n",
              "    </tr>\n",
              "    <tr>\n",
              "      <th>3</th>\n",
              "      <td>13/07/1941</td>\n",
              "      <td>0</td>\n",
              "      <td></td>\n",
              "      <td>39</td>\n",
              "      <td>28</td>\n",
              "    </tr>\n",
              "    <tr>\n",
              "      <th>4</th>\n",
              "      <td>14/07/1941</td>\n",
              "      <td>0</td>\n",
              "      <td></td>\n",
              "      <td>39</td>\n",
              "      <td>27</td>\n",
              "    </tr>\n",
              "  </tbody>\n",
              "</table>\n",
              "</div>"
            ],
            "text/plain": [
              "        Fecha Precip Evap Tmax Tmin\n",
              "0  10/07/1941      0        41     \n",
              "1  11/07/1941      0        42   24\n",
              "2  12/07/1941      0        41   31\n",
              "3  13/07/1941      0        39   28\n",
              "4  14/07/1941      0        39   27"
            ]
          },
          "metadata": {
            "tags": []
          },
          "execution_count": 20
        }
      ]
    },
    {
      "cell_type": "markdown",
      "metadata": {
        "id": "qF7Z1J9ZID80"
      },
      "source": [
        "convertir a número flotante o numérico los datos de Precipitación, Evaporación, Temperatura Máxima y Temperatura mínima utilizando la función\r\n",
        " df.to_numeric() "
      ]
    },
    {
      "cell_type": "code",
      "metadata": {
        "colab": {
          "base_uri": "https://localhost:8080/"
        },
        "id": "1UAjJsZ4ILYD",
        "outputId": "41f73dea-a5be-41a0-cd2e-7b5981369e71"
      },
      "source": [
        "#primero imprimimos las información actualizada\r\n",
        "df_work1.info()\r\n",
        "print(df_work1.head())"
      ],
      "execution_count": 21,
      "outputs": [
        {
          "output_type": "stream",
          "text": [
            "<class 'pandas.core.frame.DataFrame'>\n",
            "RangeIndex: 27166 entries, 0 to 27165\n",
            "Data columns (total 5 columns):\n",
            " #   Column  Non-Null Count  Dtype \n",
            "---  ------  --------------  ----- \n",
            " 0   Fecha   27166 non-null  object\n",
            " 1   Precip  27166 non-null  object\n",
            " 2   Evap    27166 non-null  object\n",
            " 3   Tmax    27166 non-null  object\n",
            " 4   Tmin    27166 non-null  object\n",
            "dtypes: object(5)\n",
            "memory usage: 1.0+ MB\n",
            "        Fecha Precip Evap Tmax Tmin\n",
            "0  10/07/1941      0        41     \n",
            "1  11/07/1941      0        42   24\n",
            "2  12/07/1941      0        41   31\n",
            "3  13/07/1941      0        39   28\n",
            "4  14/07/1941      0        39   27\n"
          ],
          "name": "stdout"
        }
      ]
    },
    {
      "cell_type": "markdown",
      "metadata": {
        "id": "6Wfxy2S-I64z"
      },
      "source": [
        "convertir a número flotante o numérico"
      ]
    },
    {
      "cell_type": "code",
      "metadata": {
        "colab": {
          "base_uri": "https://localhost:8080/"
        },
        "id": "BI8OwJOLJFjb",
        "outputId": "938d29a9-36ee-402a-e9f8-9a7b2c39068c"
      },
      "source": [
        "#convertimos los valores de nuestras variables a numeros flotantes\r\n",
        "cols_list = ['Precip', 'Evap', 'Tmax', 'Tmin']\r\n",
        "for cols in cols_list:\r\n",
        "  df_work1[cols] = pd.to_numeric(df_work1[cols], errors='coerce')\r\n",
        "\r\n",
        "df_work1.info()"
      ],
      "execution_count": 22,
      "outputs": [
        {
          "output_type": "stream",
          "text": [
            "<class 'pandas.core.frame.DataFrame'>\n",
            "RangeIndex: 27166 entries, 0 to 27165\n",
            "Data columns (total 5 columns):\n",
            " #   Column  Non-Null Count  Dtype  \n",
            "---  ------  --------------  -----  \n",
            " 0   Fecha   27166 non-null  object \n",
            " 1   Precip  27163 non-null  float64\n",
            " 2   Evap    0 non-null      float64\n",
            " 3   Tmax    26481 non-null  float64\n",
            " 4   Tmin    26480 non-null  float64\n",
            "dtypes: float64(4), object(1)\n",
            "memory usage: 1.0+ MB\n"
          ],
          "name": "stdout"
        }
      ]
    },
    {
      "cell_type": "markdown",
      "metadata": {
        "id": "ByiB4q9NJzy_"
      },
      "source": [
        "# contrastamos la información "
      ]
    },
    {
      "cell_type": "code",
      "metadata": {
        "id": "on6zmxvfv97Y",
        "colab": {
          "base_uri": "https://localhost:8080/"
        },
        "outputId": "f0369996-e794-4c54-d399-e69b5bc664df"
      },
      "source": [
        "df_work1.info()"
      ],
      "execution_count": 31,
      "outputs": [
        {
          "output_type": "stream",
          "text": [
            "<class 'pandas.core.frame.DataFrame'>\n",
            "RangeIndex: 27166 entries, 0 to 27165\n",
            "Data columns (total 5 columns):\n",
            " #   Column  Non-Null Count  Dtype  \n",
            "---  ------  --------------  -----  \n",
            " 0   Fecha   27166 non-null  object \n",
            " 1   Precip  27163 non-null  float64\n",
            " 2   Evap    0 non-null      float64\n",
            " 3   Tmax    26481 non-null  float64\n",
            " 4   Tmin    26480 non-null  float64\n",
            "dtypes: float64(4), object(1)\n",
            "memory usage: 1.0+ MB\n"
          ],
          "name": "stdout"
        }
      ]
    },
    {
      "cell_type": "markdown",
      "metadata": {
        "id": "8FMofSSbwDiT"
      },
      "source": [
        "# Sumamos los valores nulos"
      ]
    },
    {
      "cell_type": "code",
      "metadata": {
        "colab": {
          "base_uri": "https://localhost:8080/"
        },
        "id": "-noFDIFIwGak",
        "outputId": "cd8db7d6-bc0c-489a-be82-8e0391bbd072"
      },
      "source": [
        "df_work1.isnull().sum()"
      ],
      "execution_count": 23,
      "outputs": [
        {
          "output_type": "execute_result",
          "data": {
            "text/plain": [
              "Fecha         0\n",
              "Precip        3\n",
              "Evap      27166\n",
              "Tmax        685\n",
              "Tmin        686\n",
              "dtype: int64"
            ]
          },
          "metadata": {
            "tags": []
          },
          "execution_count": 23
        }
      ]
    },
    {
      "cell_type": "markdown",
      "metadata": {
        "id": "jiHyjLLYxFGD"
      },
      "source": [
        "# Imprimiendo el nuevo encabezado "
      ]
    },
    {
      "cell_type": "code",
      "metadata": {
        "colab": {
          "base_uri": "https://localhost:8080/"
        },
        "id": "cl6Q7HKqxLyR",
        "outputId": "9fd506e1-1c50-4a72-8a0b-15183b98df1d"
      },
      "source": [
        "#comando para imprimir el encabezado \r\n",
        "print(df_work1.head())\r\n",
        "#comando para imprimir el último encabezado\r\n",
        "print(df_work1.tail())"
      ],
      "execution_count": 24,
      "outputs": [
        {
          "output_type": "stream",
          "text": [
            "        Fecha  Precip  Evap  Tmax  Tmin\n",
            "0  10/07/1941     0.0   NaN  41.0   NaN\n",
            "1  11/07/1941     0.0   NaN  42.0  24.0\n",
            "2  12/07/1941     0.0   NaN  41.0  31.0\n",
            "3  13/07/1941     0.0   NaN  39.0  28.0\n",
            "4  14/07/1941     0.0   NaN  39.0  27.0\n",
            "            Fecha  Precip  Evap  Tmax  Tmin\n",
            "27161  27/12/2017     0.0   NaN  27.0  10.0\n",
            "27162  28/12/2017     0.0   NaN  29.0  11.0\n",
            "27163  29/12/2017     0.0   NaN  29.0  11.0\n",
            "27164  30/12/2017     0.0   NaN  30.0   9.0\n",
            "27165  31/12/2017     0.0   NaN  32.0  10.0\n"
          ],
          "name": "stdout"
        }
      ]
    },
    {
      "cell_type": "markdown",
      "metadata": {
        "id": "sXgH6218xpie"
      },
      "source": [
        "•\tRealiza una estadística básica de las variables numéricas de tu dataframe usando la función: df.describe() y haz una interpretación de los resultados, para ver si tienen sentido físico (por ej. valores negativos de precipitación, valores extremos fuera de lo normal, etc)"
      ]
    },
    {
      "cell_type": "code",
      "metadata": {
        "colab": {
          "base_uri": "https://localhost:8080/",
          "height": 297
        },
        "id": "r3RnzGEnx8Of",
        "outputId": "6caeac01-781d-4472-9e00-7d5430c3e34e"
      },
      "source": [
        "#comando para hacer el análisis estadístico con un redondeo de dos cifras significativas \r\n",
        "df_work1.describe().round(2)"
      ],
      "execution_count": 25,
      "outputs": [
        {
          "output_type": "execute_result",
          "data": {
            "text/html": [
              "<div>\n",
              "<style scoped>\n",
              "    .dataframe tbody tr th:only-of-type {\n",
              "        vertical-align: middle;\n",
              "    }\n",
              "\n",
              "    .dataframe tbody tr th {\n",
              "        vertical-align: top;\n",
              "    }\n",
              "\n",
              "    .dataframe thead th {\n",
              "        text-align: right;\n",
              "    }\n",
              "</style>\n",
              "<table border=\"1\" class=\"dataframe\">\n",
              "  <thead>\n",
              "    <tr style=\"text-align: right;\">\n",
              "      <th></th>\n",
              "      <th>Precip</th>\n",
              "      <th>Evap</th>\n",
              "      <th>Tmax</th>\n",
              "      <th>Tmin</th>\n",
              "    </tr>\n",
              "  </thead>\n",
              "  <tbody>\n",
              "    <tr>\n",
              "      <th>count</th>\n",
              "      <td>27163.00</td>\n",
              "      <td>0.0</td>\n",
              "      <td>26481.00</td>\n",
              "      <td>26480.00</td>\n",
              "    </tr>\n",
              "    <tr>\n",
              "      <th>mean</th>\n",
              "      <td>0.37</td>\n",
              "      <td>NaN</td>\n",
              "      <td>31.41</td>\n",
              "      <td>15.51</td>\n",
              "    </tr>\n",
              "    <tr>\n",
              "      <th>std</th>\n",
              "      <td>4.79</td>\n",
              "      <td>NaN</td>\n",
              "      <td>6.20</td>\n",
              "      <td>6.25</td>\n",
              "    </tr>\n",
              "    <tr>\n",
              "      <th>min</th>\n",
              "      <td>0.00</td>\n",
              "      <td>NaN</td>\n",
              "      <td>10.00</td>\n",
              "      <td>-4.00</td>\n",
              "    </tr>\n",
              "    <tr>\n",
              "      <th>25%</th>\n",
              "      <td>0.00</td>\n",
              "      <td>NaN</td>\n",
              "      <td>27.00</td>\n",
              "      <td>10.50</td>\n",
              "    </tr>\n",
              "    <tr>\n",
              "      <th>50%</th>\n",
              "      <td>0.00</td>\n",
              "      <td>NaN</td>\n",
              "      <td>31.00</td>\n",
              "      <td>15.00</td>\n",
              "    </tr>\n",
              "    <tr>\n",
              "      <th>75%</th>\n",
              "      <td>0.00</td>\n",
              "      <td>NaN</td>\n",
              "      <td>36.50</td>\n",
              "      <td>20.50</td>\n",
              "    </tr>\n",
              "    <tr>\n",
              "      <th>max</th>\n",
              "      <td>260.00</td>\n",
              "      <td>NaN</td>\n",
              "      <td>49.00</td>\n",
              "      <td>31.50</td>\n",
              "    </tr>\n",
              "  </tbody>\n",
              "</table>\n",
              "</div>"
            ],
            "text/plain": [
              "         Precip  Evap      Tmax      Tmin\n",
              "count  27163.00   0.0  26481.00  26480.00\n",
              "mean       0.37   NaN     31.41     15.51\n",
              "std        4.79   NaN      6.20      6.25\n",
              "min        0.00   NaN     10.00     -4.00\n",
              "25%        0.00   NaN     27.00     10.50\n",
              "50%        0.00   NaN     31.00     15.00\n",
              "75%        0.00   NaN     36.50     20.50\n",
              "max      260.00   NaN     49.00     31.50"
            ]
          },
          "metadata": {
            "tags": []
          },
          "execution_count": 25
        }
      ]
    },
    {
      "cell_type": "markdown",
      "metadata": {
        "id": "a4cIWVpyyOT6"
      },
      "source": [
        "# Comienza haciendo una copia del dataframe del paso anterior"
      ]
    },
    {
      "cell_type": "code",
      "metadata": {
        "colab": {
          "base_uri": "https://localhost:8080/"
        },
        "id": "v7eA2d05gHI2",
        "outputId": "d63eca31-74a2-4066-9377-40d9bbff2697"
      },
      "source": [
        "#creamos una segunda copia del archivo y lo llamamos work2\r\n",
        "df_work2=df_work1.copy()\r\n",
        "#probabos si es correcto el nuevo data frame\r\n",
        "df_work2[\"Fecha\"].head()"
      ],
      "execution_count": 26,
      "outputs": [
        {
          "output_type": "execute_result",
          "data": {
            "text/plain": [
              "0    10/07/1941\n",
              "1    11/07/1941\n",
              "2    12/07/1941\n",
              "3    13/07/1941\n",
              "4    14/07/1941\n",
              "Name: Fecha, dtype: object"
            ]
          },
          "metadata": {
            "tags": []
          },
          "execution_count": 26
        }
      ]
    },
    {
      "cell_type": "markdown",
      "metadata": {
        "id": "JwlPw9nDrMMk"
      },
      "source": [
        "Utiliza la función de Pandas pd.to_datetime(), para convertir el objeto Fecha a formato de fecha que comprende Python. "
      ]
    },
    {
      "cell_type": "code",
      "metadata": {
        "colab": {
          "base_uri": "https://localhost:8080/"
        },
        "id": "zn0ecZ70h-Xq",
        "outputId": "4d90109c-de98-4c66-8a59-c65f51ea0e4b"
      },
      "source": [
        "df_work2['Fecha']=pd.to_datetime(df_work2['Fecha'], dayfirst=True).copy()\r\n",
        "print(df_work1.head())"
      ],
      "execution_count": 27,
      "outputs": [
        {
          "output_type": "stream",
          "text": [
            "        Fecha  Precip  Evap  Tmax  Tmin\n",
            "0  10/07/1941     0.0   NaN  41.0   NaN\n",
            "1  11/07/1941     0.0   NaN  42.0  24.0\n",
            "2  12/07/1941     0.0   NaN  41.0  31.0\n",
            "3  13/07/1941     0.0   NaN  39.0  28.0\n",
            "4  14/07/1941     0.0   NaN  39.0  27.0\n"
          ],
          "name": "stdout"
        }
      ]
    },
    {
      "cell_type": "markdown",
      "metadata": {
        "id": "O8wDre2ks5M6"
      },
      "source": [
        "usar la función  df.dtypes para verificar que todas las variables son del tipo deseado.  "
      ]
    },
    {
      "cell_type": "code",
      "metadata": {
        "colab": {
          "base_uri": "https://localhost:8080/"
        },
        "id": "RC9Y3QE3s_PU",
        "outputId": "11616891-94b4-4266-fe92-3c6ddf79a33f"
      },
      "source": [
        "#checamos que las variables sean del tipo deseado\r\n",
        "df_work2.dtypes"
      ],
      "execution_count": 28,
      "outputs": [
        {
          "output_type": "execute_result",
          "data": {
            "text/plain": [
              "Fecha     datetime64[ns]\n",
              "Precip           float64\n",
              "Evap             float64\n",
              "Tmax             float64\n",
              "Tmin             float64\n",
              "dtype: object"
            ]
          },
          "metadata": {
            "tags": []
          },
          "execution_count": 28
        }
      ]
    },
    {
      "cell_type": "markdown",
      "metadata": {
        "id": "s0E1D7TAtg0t"
      },
      "source": [
        "Con las funciones de Pandas df['Fecha'].dt.year y df['Fecha'].dt.month, crea dos columnas nuevas adicionales df['Año'] y df['Mes'].  "
      ]
    },
    {
      "cell_type": "code",
      "metadata": {
        "colab": {
          "base_uri": "https://localhost:8080/"
        },
        "id": "Hb-TzJnxt5zy",
        "outputId": "fe3f3a5b-0d56-4362-f5de-f7de97125618"
      },
      "source": [
        "#con estos comando creamos dos columnas nuevas al documento \r\n",
        "df_work2['Año'] = df_work2['Fecha'].dt.year\r\n",
        "df_work2['Mes'] = df_work2['Fecha'].dt.month\r\n",
        "#checamos que se crearan de forma correcta \r\n",
        "print(df_work2.head())\r\n",
        "print(df_work2.tail())"
      ],
      "execution_count": 29,
      "outputs": [
        {
          "output_type": "stream",
          "text": [
            "       Fecha  Precip  Evap  Tmax  Tmin   Año  Mes\n",
            "0 1941-07-10     0.0   NaN  41.0   NaN  1941    7\n",
            "1 1941-07-11     0.0   NaN  42.0  24.0  1941    7\n",
            "2 1941-07-12     0.0   NaN  41.0  31.0  1941    7\n",
            "3 1941-07-13     0.0   NaN  39.0  28.0  1941    7\n",
            "4 1941-07-14     0.0   NaN  39.0  27.0  1941    7\n",
            "           Fecha  Precip  Evap  Tmax  Tmin   Año  Mes\n",
            "27161 2017-12-27     0.0   NaN  27.0  10.0  2017   12\n",
            "27162 2017-12-28     0.0   NaN  29.0  11.0  2017   12\n",
            "27163 2017-12-29     0.0   NaN  29.0  11.0  2017   12\n",
            "27164 2017-12-30     0.0   NaN  30.0   9.0  2017   12\n",
            "27165 2017-12-31     0.0   NaN  32.0  10.0  2017   12\n"
          ],
          "name": "stdout"
        }
      ]
    },
    {
      "cell_type": "code",
      "metadata": {
        "colab": {
          "base_uri": "https://localhost:8080/"
        },
        "id": "EkrpohdRxSFh",
        "outputId": "7e1e7995-e2ac-497a-f547-28e0721ec7fd"
      },
      "source": [
        "#checamos que todas las variables sean del tipo deseado\r\n",
        "df_work2.info()"
      ],
      "execution_count": 30,
      "outputs": [
        {
          "output_type": "stream",
          "text": [
            "<class 'pandas.core.frame.DataFrame'>\n",
            "RangeIndex: 27166 entries, 0 to 27165\n",
            "Data columns (total 7 columns):\n",
            " #   Column  Non-Null Count  Dtype         \n",
            "---  ------  --------------  -----         \n",
            " 0   Fecha   27166 non-null  datetime64[ns]\n",
            " 1   Precip  27163 non-null  float64       \n",
            " 2   Evap    0 non-null      float64       \n",
            " 3   Tmax    26481 non-null  float64       \n",
            " 4   Tmin    26480 non-null  float64       \n",
            " 5   Año     27166 non-null  int64         \n",
            " 6   Mes     27166 non-null  int64         \n",
            "dtypes: datetime64[ns](1), float64(4), int64(2)\n",
            "memory usage: 1.5 MB\n"
          ],
          "name": "stdout"
        }
      ]
    }
  ]
}
