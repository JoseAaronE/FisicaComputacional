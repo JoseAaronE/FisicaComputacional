{
  "nbformat": 4,
  "nbformat_minor": 0,
  "metadata": {
    "colab": {
      "name": "Actividad2.ipynb",
      "provenance": [],
      "include_colab_link": true
    },
    "kernelspec": {
      "name": "python3",
      "display_name": "Python 3"
    }
  },
  "cells": [
    {
      "cell_type": "markdown",
      "metadata": {
        "id": "view-in-github",
        "colab_type": "text"
      },
      "source": [
        "<a href=\"https://colab.research.google.com/github/JoseAaronE/FisicaComputacional/blob/master/Actividad2.ipynb\" target=\"_parent\"><img src=\"https://colab.research.google.com/assets/colab-badge.svg\" alt=\"Open In Colab\"/></a>"
      ]
    },
    {
      "cell_type": "markdown",
      "metadata": {
        "id": "WvP3iySWuBk7"
      },
      "source": [
        "# **Actividad 2**\r\n",
        "# Esquivel Ovilla José Aarón "
      ]
    },
    {
      "cell_type": "markdown",
      "metadata": {
        "id": "gjO5nhKTwjXy"
      },
      "source": [
        "# **Ejercicio 1**\r\n",
        "\r\n",
        "\r\n",
        "# Código para obtener el área de un círculo \r\n",
        "\r\n",
        "Fórmula:\r\n",
        "\r\n",
        "**$A=\\pi r^2$**"
      ]
    },
    {
      "cell_type": "code",
      "metadata": {
        "id": "l2IlrmOruNQu"
      },
      "source": [
        "import numpy as np\r\n"
      ],
      "execution_count": null,
      "outputs": []
    },
    {
      "cell_type": "code",
      "metadata": {
        "colab": {
          "base_uri": "https://localhost:8080/"
        },
        "id": "F-yjpR1RuIw3",
        "outputId": "7f269492-2258-44c3-af4b-44c756623073"
      },
      "source": [
        "# programa para calcular el área de un círculo.  \r\n",
        "#formula para calcular el area del circulo \r\n",
        "def ac(x):\r\n",
        "    return np.pi *x**2\r\n",
        "#pedimos al usuario que nos de el radio del circulo\r\n",
        "print(\"¿cual es el radio del círculo?: \")\r\n",
        "r=float(input())\r\n",
        "ac=ac(r)\r\n",
        "print(\"\\nArea = {:.2f}\".format(ac))"
      ],
      "execution_count": null,
      "outputs": [
        {
          "output_type": "stream",
          "text": [
            "¿cual es el radio del círculo?: \n",
            "8\n",
            "\n",
            "Area = 201.06\n"
          ],
          "name": "stdout"
        }
      ]
    },
    {
      "cell_type": "markdown",
      "metadata": {
        "id": "1meUa3oI8GiQ"
      },
      "source": [
        "# Código para obtener el área de una elipse\r\n",
        "Fórmula:\r\n",
        "\r\n",
        "$A=\\pi ab $"
      ]
    },
    {
      "cell_type": "code",
      "metadata": {
        "colab": {
          "base_uri": "https://localhost:8080/"
        },
        "id": "qEh0HF_hFkQN",
        "outputId": "c5f9fb62-ca0c-445e-d52c-24ddd93818fa"
      },
      "source": [
        "#Codigo para calcular el area de una elipse \r\n",
        "#formula para calcular el area de la elipse \r\n",
        "def ae(x,y):\r\n",
        "  return x*y*np.pi \r\n",
        "\r\n",
        "print(\"¿Cual es el valor del semieje mayor de la elipse y del semieje menor:\")\r\n",
        "a=float(input()) #Semieje mayor de la elipse a calcular\r\n",
        "b=float(input()) #Semieje menor de la elipse a calcular\r\n",
        "\r\n",
        "ae=ae(a,b)\r\n",
        "\r\n",
        "print(\"\\nEl área de la elipse es: {:.2f}\".format(ae))"
      ],
      "execution_count": null,
      "outputs": [
        {
          "output_type": "stream",
          "text": [
            "¿Cual es el valor del semieje mayor de la elipse y del semieje menor:\n",
            "5\n",
            "4\n",
            "\n",
            "El área de la elipse es: 62.83\n"
          ],
          "name": "stdout"
        }
      ]
    },
    {
      "cell_type": "markdown",
      "metadata": {
        "id": "EeiFsqszHWvn"
      },
      "source": [
        "# Código para obtener el volumen de un esfera\r\n",
        "Fórmula:\r\n",
        "\r\n",
        "$V=\\frac{4}{3}\\pi r^3$\r\n"
      ]
    },
    {
      "cell_type": "code",
      "metadata": {
        "colab": {
          "base_uri": "https://localhost:8080/"
        },
        "id": "_Aj9-609nde2",
        "outputId": "9c2ee932-45b6-469b-9240-07294ec1e575"
      },
      "source": [
        "#Codigo para calcular el volumen de una esfera.\r\n",
        "#formula para calcular el volumen de la esfera\r\n",
        "def v(x):\r\n",
        "  return 4/3*np.pi*x**3 \r\n",
        "\r\n",
        "print(\"Cual es el radio de la esfera:\")\r\n",
        "r=float(input()) \r\n",
        "\r\n",
        "v=v(r)\r\n",
        "\r\n",
        "print(\"\\nVolumen de la esfera es: {:.2f}\".format(v))"
      ],
      "execution_count": null,
      "outputs": [
        {
          "output_type": "stream",
          "text": [
            "Cual es el radio de la esfera:\n",
            "1\n",
            "\n",
            "Volumen de la esfera es: 4.19\n"
          ],
          "name": "stdout"
        }
      ]
    },
    {
      "cell_type": "markdown",
      "metadata": {
        "id": "H18BWw5BoPbH"
      },
      "source": [
        "# Código para obtener el volumen de un cilindro circular\r\n",
        "\r\n",
        "Fórmula:\r\n",
        "\r\n",
        "$V=\\pi r^2 h$"
      ]
    },
    {
      "cell_type": "code",
      "metadata": {
        "colab": {
          "base_uri": "https://localhost:8080/"
        },
        "id": "SkTRyLZNpHG_",
        "outputId": "9ab625fb-4f0c-4d16-943d-022e59ebdd4a"
      },
      "source": [
        "#codigo para calcular el volumen de un cilindro circular \r\n",
        "def v(x,y):\r\n",
        "  return (np.pi * r**2)*h\r\n",
        "\r\n",
        "print(\"Proporciones el radio y la altura del cilindro\")\r\n",
        "#radio del cilindro circular\r\n",
        "r=float(input())\r\n",
        "\r\n",
        "#altura del cilindro circular\r\n",
        "h=float(input())\r\n",
        "\r\n",
        "v=v(r,h)\r\n",
        "\r\n",
        "print(\"\\nEl volumen del cilindro circular es: {:.2f}\".format(v))"
      ],
      "execution_count": null,
      "outputs": [
        {
          "output_type": "stream",
          "text": [
            "Proporciones el radio y la altura del cilindro\n",
            "6\n",
            "8\n",
            "\n",
            "El volumen del cilindro circular es: 904.78\n"
          ],
          "name": "stdout"
        }
      ]
    },
    {
      "cell_type": "markdown",
      "metadata": {
        "id": "KiQw3PN1qeV0"
      },
      "source": [
        "# **Ejercicio 2**\r\n",
        "# Código para calcular la raíces de una ecuación cuadrática \r\n",
        "\r\n",
        "Fórmula:\r\n",
        "\r\n",
        "$\\frac{-b \\pm \\sqrt{b^2-4ac}}{2a}$\r\n"
      ]
    },
    {
      "cell_type": "code",
      "metadata": {
        "id": "bHzZa-L2r-di",
        "colab": {
          "base_uri": "https://localhost:8080/"
        },
        "outputId": "38bfee0e-a308-4c26-b38a-d2d2590f4ecc"
      },
      "source": [
        "#codigo para calcular las raices de una ecuacion cuadratica\r\n",
        "#primero le pediremos al usuario que nos proporcione los coeficientes de la ecuacion cuadratica \r\n",
        "print(\"Proporca los valores de los coeficientes\")\r\n",
        "print(\"ax^2+bx+c\")\r\n",
        "a=float(input())\r\n",
        "b=float(input())\r\n",
        "c=float(input())\r\n",
        "\r\n",
        "d=b**2-4*a*c\r\n",
        "\r\n",
        "if d > 0:\r\n",
        "    \r\n",
        "    X=((-b)+r)/(2*a)\r\n",
        "    Y=((-b)-r)/(2*a)\r\n",
        "    print(\"\\nRaices = \", X , Y)\r\n",
        "    \r\n",
        "    print(\"\\nRaíz 1 = {:.4f}\" .format(X))\r\n",
        "    print(\"\\nRaíz 2 = {:.4f}\" .format(Y))\r\n",
        "elif (d==0):\r\n",
        "    X=((-b)+r)/(2*a)\r\n",
        "    Y=((-b)-r)/(2*a)\r\n",
        "    print(\"\\nRaices = \", X , Y)\r\n",
        "    \r\n",
        "    print(\"\\nRaíz 1 = {:.4f}\" .format(X))\r\n",
        "    print(\"\\nRaíz 2 = {:.4f}\" .format(Y))\r\n",
        "\r\n",
        "else:\r\n",
        "    print(\"Las raices de esta ecuación son de números complejos\")"
      ],
      "execution_count": null,
      "outputs": [
        {
          "output_type": "stream",
          "text": [
            "Proporca los valores de los coeficientes\n",
            "ax^2+bx+c\n",
            "10\n",
            "0\n",
            "-40\n",
            "\n",
            "Raices =  2.0 -2.0\n",
            "\n",
            "Raíz 1 = 2.0000\n",
            "\n",
            "Raíz 2 = -2.0000\n"
          ],
          "name": "stdout"
        }
      ]
    },
    {
      "cell_type": "markdown",
      "metadata": {
        "id": "ny5YFlzDUshY"
      },
      "source": [
        "# **Ejercicio 3**\r\n",
        "# Implementar el método Babilonio (o Método de Herón), para calcular la raíz cuadrada de un número S\r\n",
        "\r\n",
        "Fómula:\r\n",
        "\r\n",
        "$x_{0}\\approx\\sqrt{S}$\r\n",
        "\r\n",
        "$x_{n+1}=\\frac{1}{2}(x_n+\\frac{S}{x_n})$\r\n",
        "\r\n",
        "$\\sqrt{S}\\lim\\limits_{n\\to\\infty} x_{n}$"
      ]
    },
    {
      "cell_type": "code",
      "metadata": {
        "id": "oWnFj_Cnaakz",
        "colab": {
          "base_uri": "https://localhost:8080/"
        },
        "outputId": "f95f3803-6d88-4ba9-f7aa-67bfe255faa4"
      },
      "source": [
        "#codigo para calcular la raiz cuadrada de un numero S usando el metodo babilonio \r\n",
        "#pediremos que el usuario nos proporciones un valor de S\r\n",
        "import numpy as np\r\n",
        "\r\n",
        "print(\"\\n¿Que valor de S desea calcular?:\")\r\n",
        "\r\n",
        "s=float(input())\r\n",
        "#calculando la raiz con la funcion np\r\n",
        "sr=np.sqrt(s)\r\n",
        "print(\"\\nProporcione un valor inicial x0:\")\r\n",
        "\r\n",
        "x0=float(input())\r\n",
        "#calculando la raiz con el metodo babilonio \r\n",
        "i=1\r\n",
        "ap=1/2*(x0+(s/x0))\r\n",
        "\r\n",
        "while abs(s-ap) > 0.01:\r\n",
        "  print(\"Ciclo\", i, \":\", ap)\r\n",
        "  ap=1/2*(ap+(s/ap))\r\n",
        "  i=i+1\r\n",
        "  #hacemo que corra 100 veces\r\n",
        "  if i >= 51: \r\n",
        "    break\r\n",
        "#cuando se pase de 101 se detiene \r\n",
        "print(\"El valor aproximado de la raiz de \", s, \"es:\", ap, \". \\nY su error es de:\", abs(np.sqrt(s)-ap))"
      ],
      "execution_count": null,
      "outputs": [
        {
          "output_type": "stream",
          "text": [
            "\n",
            "¿Que valor de S desea calcular?:\n",
            "125348\n",
            "\n",
            "Proporcione un valor inicial x0:\n",
            "600\n",
            "Ciclo 1 : 404.45666666666665\n",
            "Ciclo 2 : 357.186837334586\n",
            "Ciclo 3 : 354.059011038189\n",
            "Ciclo 4 : 354.0451951246895\n",
            "Ciclo 5 : 354.04519485512014\n",
            "Ciclo 6 : 354.04519485512014\n",
            "Ciclo 7 : 354.04519485512014\n",
            "Ciclo 8 : 354.04519485512014\n",
            "Ciclo 9 : 354.04519485512014\n",
            "Ciclo 10 : 354.04519485512014\n",
            "Ciclo 11 : 354.04519485512014\n",
            "Ciclo 12 : 354.04519485512014\n",
            "Ciclo 13 : 354.04519485512014\n",
            "Ciclo 14 : 354.04519485512014\n",
            "Ciclo 15 : 354.04519485512014\n",
            "Ciclo 16 : 354.04519485512014\n",
            "Ciclo 17 : 354.04519485512014\n",
            "Ciclo 18 : 354.04519485512014\n",
            "Ciclo 19 : 354.04519485512014\n",
            "Ciclo 20 : 354.04519485512014\n",
            "Ciclo 21 : 354.04519485512014\n",
            "Ciclo 22 : 354.04519485512014\n",
            "Ciclo 23 : 354.04519485512014\n",
            "Ciclo 24 : 354.04519485512014\n",
            "Ciclo 25 : 354.04519485512014\n",
            "Ciclo 26 : 354.04519485512014\n",
            "Ciclo 27 : 354.04519485512014\n",
            "Ciclo 28 : 354.04519485512014\n",
            "Ciclo 29 : 354.04519485512014\n",
            "Ciclo 30 : 354.04519485512014\n",
            "Ciclo 31 : 354.04519485512014\n",
            "Ciclo 32 : 354.04519485512014\n",
            "Ciclo 33 : 354.04519485512014\n",
            "Ciclo 34 : 354.04519485512014\n",
            "Ciclo 35 : 354.04519485512014\n",
            "Ciclo 36 : 354.04519485512014\n",
            "Ciclo 37 : 354.04519485512014\n",
            "Ciclo 38 : 354.04519485512014\n",
            "Ciclo 39 : 354.04519485512014\n",
            "Ciclo 40 : 354.04519485512014\n",
            "Ciclo 41 : 354.04519485512014\n",
            "Ciclo 42 : 354.04519485512014\n",
            "Ciclo 43 : 354.04519485512014\n",
            "Ciclo 44 : 354.04519485512014\n",
            "Ciclo 45 : 354.04519485512014\n",
            "Ciclo 46 : 354.04519485512014\n",
            "Ciclo 47 : 354.04519485512014\n",
            "Ciclo 48 : 354.04519485512014\n",
            "Ciclo 49 : 354.04519485512014\n",
            "Ciclo 50 : 354.04519485512014\n",
            "El valor aproximado de la raiz de  125348.0 es: 354.04519485512014 . \n",
            "Y su error es de: 0.0\n"
          ],
          "name": "stdout"
        }
      ]
    },
    {
      "cell_type": "markdown",
      "metadata": {
        "id": "Btq_uSWokBb5"
      },
      "source": [
        "# Ejercicio 4\r\n",
        " Reproduce la figura que aparece inmediatamente abajo en el artículo de Wikipedia sobre Series de Taylor, que muestra la aproximación de la función ln(1+x) alrededor de x=0\r\n",
        "\r\n",
        " $ln(1+x)=\\displaystyle\\sum_{n=1}^\\infty (-1)^{n+1}\\frac{x^n}{n}=x-\\frac{x^2}{2}+\\frac{3^3}{3}+\\cdots$"
      ]
    },
    {
      "cell_type": "code",
      "metadata": {
        "colab": {
          "base_uri": "https://localhost:8080/",
          "height": 521
        },
        "id": "ZFEVP4EQovkE",
        "outputId": "95a742a3-7a2a-4062-b7dc-c1febf37e4c7"
      },
      "source": [
        "#Primero importamos las librerias:\r\n",
        "import numpy as np\r\n",
        "import matplotlib.pyplot as plt #Para graficar\r\n",
        "\r\n",
        "print(\"Este programa esta disenado para aproximar la funcion ln(1+x) usando la serie de Taylor para esa funcion en especifico.\")\r\n",
        "\r\n",
        "print(\"\\nIntroduzca un primer valor para el polinomio\")\r\n",
        "n=int(input())\r\n",
        "x=np.linspace(-1.5,1.5,100)\r\n",
        "\r\n",
        "#primer valor del polinomio\r\n",
        "aux1=0.0 \r\n",
        "for i in range(1,n+1):\r\n",
        "  p1=aux1+((-1)**(i+1))*(x**i/i)\r\n",
        "  aux1=p1\r\n",
        "#obtenemos el primer valor del polinomio \r\n",
        "\r\n",
        "#segundo valor del polinomio\r\n",
        "print(\"\\nIntroduzca un segundo valor para el polinomio:\")\r\n",
        "#n2= segudno valor que obtendra el polinomio\r\n",
        "n2=int(input())\r\n",
        "#variable auxiliar que se usara para el segundo valor\r\n",
        "aux2=0.0\r\n",
        "for i in range(1,n2+1):\r\n",
        "  p2=aux2+((-1)**(i+1))*(x**i/i)\r\n",
        "  aux2=p2\r\n",
        "#obtenemos el segundo valor del polinomio\r\n",
        "\r\n",
        "\r\n",
        "#tercer valor del polinomio\r\n",
        "print(\"\\nIntroduzca un tercer valor:\")\r\n",
        "#n3= el tercer valor que obtendra el polinomio\r\n",
        "n3=int(input())\r\n",
        "#variable auxiliar que se usara para el tercer valor \r\n",
        "aux3=0.0  \r\n",
        "for i in range(1,n3+1):\r\n",
        "  p3=aux3+((-1)**(i+1))*(x**i/i)\r\n",
        "  aux3=p3\r\n",
        "#obtenemos el tercer valor del polinomio\r\n",
        "\r\n",
        "#cuarto valor para el polinomio\r\n",
        "print(\"\\nIntroduzca un cuarto valor para el polinomio:\")\r\n",
        "#n4= cuarto valor que obtendra el polinomio\r\n",
        "n4=int(input())\r\n",
        "#variable auxiliar que se usara para el cuarto valor \r\n",
        "aux4=0.0\r\n",
        "for i in range(1,n4+1):\r\n",
        "  p4=aux4+((-1)**(i+1))*(x**i/i)\r\n",
        "  aux4=p4\r\n",
        "#obtenemos el cuarto valor del polinomio\r\n",
        "\r\n",
        "#base de la  grafica final\r\n",
        "plt.subplot(111)\r\n",
        "plt.xlabel(\"X\")\r\n",
        "plt.ylabel(\"Y\")\r\n",
        "\r\n",
        "#comandos para poder graficar los resultados de los polinomios\r\n",
        "plt.plot(x,p1, label=\"T4\")\r\n",
        "plt.plot(x,p2, label=\"T7\")\r\n",
        "plt.plot(x,p3, label=\"T11\")\r\n",
        "plt.plot(x,p4, label=\"T16\")\r\n",
        "plt.plot(x,np.log(1+x), label=\"ln(1+x)\")\r\n",
        "#comando para poder agragar una malla a la grafica \r\n",
        "plt.grid(True)\r\n",
        "#comando para poder fijar los limites que tomara Y\r\n",
        "plt.ylim(-4, 2)\r\n",
        "#comando para poner una ubicacion a las etiquetas \r\n",
        "plt.legend(bbox_to_anchor=(1,1), loc=\"upper left\")\r\n",
        "\r\n",
        "plt.show()"
      ],
      "execution_count": null,
      "outputs": [
        {
          "output_type": "stream",
          "text": [
            "Este programa esta disenado para aproximar la funcion ln(1+x) usando la serie de Taylor para esa funcion en especifico.\n",
            "\n",
            "Introduzca un primer valor para el polinomio\n",
            "4\n",
            "\n",
            "Introduzca un segundo valor para el polinomio:\n",
            "7\n",
            "\n",
            "Introduzca un tercer valor:\n",
            "11\n",
            "\n",
            "Introduzca un cuarto valor para el polinomio:\n",
            "16\n"
          ],
          "name": "stdout"
        },
        {
          "output_type": "stream",
          "text": [
            "/usr/local/lib/python3.6/dist-packages/ipykernel_launcher.py:62: RuntimeWarning: invalid value encountered in log\n"
          ],
          "name": "stderr"
        },
        {
          "output_type": "display_data",
          "data": {
            "image/png": "[encoded data removed]",
            "text/plain": [
              "<Figure size 432x288 with 1 Axes>"
            ]
          },
          "metadata": {
            "tags": [],
            "needs_background": "light"
          }
        }
      ]
    },
    {
      "cell_type": "markdown",
      "metadata": {
        "id": "5rITg36rFMBK"
      },
      "source": [
        "# **Ejemplos**\r\n",
        "\r\n",
        "A continuación se mostraran algunos ejemplos vistos en clase"
      ]
    },
    {
      "cell_type": "markdown",
      "metadata": {
        "id": "zKzBNvHERj8U"
      },
      "source": [
        "# Ejemplo usando condicional:if "
      ]
    },
    {
      "cell_type": "code",
      "metadata": {
        "colab": {
          "base_uri": "https://localhost:8080/"
        },
        "id": "tt6tD9eKRoEA",
        "outputId": "74ee28f6-5209-4abf-949a-05f872ce8792"
      },
      "source": [
        "x = 3\r\n",
        "\r\n",
        "y = 2\r\n",
        "\r\n",
        "z = 3\r\n",
        "\r\n",
        "if x == y:\r\n",
        "\r\n",
        "     print(\"Hola\")\r\n",
        "\r\n",
        "elif x == z:\r\n",
        "\r\n",
        "     print(\"Hasta luego\")\r\n",
        "\r\n",
        "else:\r\n",
        "\r\n",
        "     print(\"que es eso\")"
      ],
      "execution_count": null,
      "outputs": [
        {
          "output_type": "stream",
          "text": [
            "Hasta luego\n"
          ],
          "name": "stdout"
        }
      ]
    },
    {
      "cell_type": "markdown",
      "metadata": {
        "id": "E4umpDjOR2wz"
      },
      "source": [
        "# Ejemplo usando Loop: for "
      ]
    },
    {
      "cell_type": "code",
      "metadata": {
        "colab": {
          "base_uri": "https://localhost:8080/"
        },
        "id": "6vO8lIrZSCJC",
        "outputId": "f1380135-9f77-4891-f62e-12704096151a"
      },
      "source": [
        "print(\"hola\")\r\n",
        "\r\n",
        "for i in range(5): # default - comienza en 0, incrementa en 1\r\n",
        "\r\n",
        "     print(i)\r\n",
        "#no se detiene en el 5 , se detiene en el 4\r\n",
        " \r\n",
        "\r\n",
        "print(\"\\nadios\")\r\n",
        "\r\n",
        "for i in range(5, 2, -2): # entradas: inicio, fin, tamaño de paso \r\n",
        "\r\n",
        "     print(i)"
      ],
      "execution_count": null,
      "outputs": [
        {
          "output_type": "stream",
          "text": [
            "hola\n",
            "0\n",
            "1\n",
            "2\n",
            "3\n",
            "4\n",
            "\n",
            "adios\n",
            "5\n",
            "3\n"
          ],
          "name": "stdout"
        }
      ]
    },
    {
      "cell_type": "markdown",
      "metadata": {
        "id": "PSPzisyQSPm5"
      },
      "source": [
        "# Ejemplo usando Loop: while"
      ]
    },
    {
      "cell_type": "code",
      "metadata": {
        "colab": {
          "base_uri": "https://localhost:8080/"
        },
        "id": "REe_FA-hSWUw",
        "outputId": "e43b1107-5929-40c3-b066-d0e39c91f92f"
      },
      "source": [
        "i = 1\r\n",
        "#empezamos con un contador i\r\n",
        "while i < 100:\r\n",
        "\r\n",
        "     print(i**2)\r\n",
        "\r\n",
        "     i += i**2 # a += b es notación compacta de a = a + b"
      ],
      "execution_count": null,
      "outputs": [
        {
          "output_type": "stream",
          "text": [
            "1\n",
            "4\n",
            "36\n",
            "1764\n"
          ],
          "name": "stdout"
        }
      ]
    },
    {
      "cell_type": "markdown",
      "metadata": {
        "id": "S_M2H1rnSj9W"
      },
      "source": [
        "# Ejemplos de: continue y break"
      ]
    },
    {
      "cell_type": "code",
      "metadata": {
        "colab": {
          "base_uri": "https://localhost:8080/"
        },
        "id": "BZ0ulpMbSm9O",
        "outputId": "8d5da3b2-03a6-4ac6-d8bc-ba31cd6930fe"
      },
      "source": [
        "for num in range(2, 10):\r\n",
        "\r\n",
        "     if num % 2 == 0:\r\n",
        "\r\n",
        "          continue # se regresa al inicio\r\n",
        "\r\n",
        "     print(f\"Encontrado {num}, un número impar\")\r\n",
        "\r\n",
        "n = 64\r\n",
        "\r\n",
        "for x in range(2, n):\r\n",
        "\r\n",
        "     if n % x == 0: # si n es divisible por x (modulo 0)\r\n",
        "\r\n",
        "          print(f'{n} igual {x} * {n // x}')\r\n",
        "\r\n",
        "          break\r\n",
        "\r\n",
        "for i in range(5):\r\n",
        "\r\n",
        "     for j in range(5*i):\r\n",
        "\r\n",
        "          if j == 10:\r\n",
        "\r\n",
        "               print(j)\r\n",
        "\r\n",
        "               break\r\n",
        "\r\n",
        "#break se va a esta línea\r\n",
        "\r\n",
        "\r\n",
        "if False:\r\n",
        "\r\n",
        "     pass # no hace nada, continua\r\n",
        "\r\n",
        "else:\r\n",
        "\r\n",
        "     print('True!')"
      ],
      "execution_count": null,
      "outputs": [
        {
          "output_type": "stream",
          "text": [
            "Encontrado 3, un número impar\n",
            "Encontrado 5, un número impar\n",
            "Encontrado 7, un número impar\n",
            "Encontrado 9, un número impar\n",
            "64 igual 2 * 32\n",
            "10\n",
            "10\n",
            "True!\n"
          ],
          "name": "stdout"
        }
      ]
    },
    {
      "cell_type": "markdown",
      "metadata": {
        "id": "JVe0NHwcTEwX"
      },
      "source": [
        "# Listas (conjunto de objetos)"
      ]
    },
    {
      "cell_type": "code",
      "metadata": {
        "colab": {
          "base_uri": "https://localhost:8080/"
        },
        "id": "zGwE_9Ivi7Tw",
        "outputId": "bc6a7d66-ef26-46e6-c6ca-5b4ccc8cf840"
      },
      "source": [
        "lista1 = [1,2,3.0,15]\r\n",
        "\r\n",
        "lista2 = [1.,2,'3',4]\r\n",
        "\r\n",
        "print(lista1)\r\n",
        "\r\n",
        "print(lista2)\r\n",
        "\r\n",
        "print(lista1+lista2)"
      ],
      "execution_count": null,
      "outputs": [
        {
          "output_type": "stream",
          "text": [
            "[1, 2, 3.0, 15]\n",
            "[1.0, 2, '3', 4]\n",
            "[1, 2, 3.0, 15, 1.0, 2, '3', 4]\n"
          ],
          "name": "stdout"
        }
      ]
    },
    {
      "cell_type": "markdown",
      "metadata": {
        "id": "bj70OTYXjC2r"
      },
      "source": [
        "Arreglos (vectores n-dimensionales)\r\n",
        "\r\n",
        "Construcción de un arreglo"
      ]
    },
    {
      "cell_type": "code",
      "metadata": {
        "id": "rKyKS8rGjIUG"
      },
      "source": [
        "s1 = np.array([1,2,3,4])      # Arreglo de enteros\r\n",
        "\r\n",
        "s2 = np.array([1,2,3,4.0])   # Un número flotante convierte al arreglo a flotante\r\n",
        "\r\n",
        "s3 = np.array([1,2,3,'4'])    # Un arreglo con un carácter, convierte a todo el arreglo de caracteres. \r\n",
        "\r\n",
        "s4 = np.arange(0,5,0.5)     # Inserta puntos cada 0.5 entre 0 y 5, pero no incluye el extremo superior\r\n",
        "\r\n",
        "s5 = np.linspace(0,5,20)    # Inserta 20 puntos entre 0 y 5, incluyendo extremos"
      ],
      "execution_count": null,
      "outputs": []
    },
    {
      "cell_type": "markdown",
      "metadata": {
        "id": "4wnpA8C3jMIC"
      },
      "source": [
        ""
      ]
    },
    {
      "cell_type": "code",
      "metadata": {
        "colab": {
          "base_uri": "https://localhost:8080/",
          "height": 295
        },
        "id": "MXwIs8wD3BAb",
        "outputId": "57859963-63e8-4df1-fad0-2722d3e7e68f"
      },
      "source": [
        "# Cargar la subbiblioteca pytlot de Matplotlib \r\n",
        "#esto es importante ya que nos permitira graficar \r\n",
        "import matplotlib.pyplot as plt\r\n",
        "\r\n",
        "\r\n",
        "# Gráfica de funciones\r\n",
        "# Definición de variables y funciones\r\n",
        "\r\n",
        "x = np.linspace(-np.pi,np.pi,100)  # arrego de 100 puntos entre -pi y pi\r\n",
        "\r\n",
        "y = np.sin(x)      # y será también un arreglo de 100 puntos automáticamente \r\n",
        "\r\n",
        "y1 = x\r\n",
        "\r\n",
        "y3 = x**3/(3*2)\r\n",
        "\r\n",
        "y5 = x**5/(5*4*3*2)\r\n",
        "\r\n",
        "sT = y1 - y3 + y5 # Serie de Taylor de sin(x) a 5o. Orden.\r\n",
        "# Creación de la gráficas\r\n",
        "\r\n",
        "plt.subplot(111)\r\n",
        "\r\n",
        "plt.xlabel(\"X label\")\r\n",
        "\r\n",
        "plt.ylabel(\"Y label\")\r\n",
        "\r\n",
        "#comando para ponerle un titulo a la grafica\r\n",
        "plt.title(\"Title\")\r\n",
        "\r\n",
        "\r\n",
        "# Graficar varias funciones\r\n",
        "#ejemplo de graficar varias funciones \r\n",
        "plt.plot(x,y, label=\"sin(x)\")\r\n",
        "\r\n",
        "plt.plot(x,y1, label='x')\r\n",
        "\r\n",
        "plt.plot(x,sT, label='Serie Taylor Orden 5')\r\n",
        "\r\n",
        "# comando para poder agregar una malla a la grafica \r\n",
        "plt.grid(True)\r\n",
        "\r\n",
        "# comando para poder fijar los limites en el eje Y\r\n",
        "plt.ylim(-2, 2)\r\n",
        "\r\n",
        "\r\n",
        "#Comando para poner la ubicación de las etiquetas de las funciones\r\n",
        "plt.legend(bbox_to_anchor=(1,1), loc=\"upper left\")\r\n",
        "\r\n",
        "plt.show()\r\n",
        "\r\n",
        "#plt.savefig('plot.png')  # Si se desea guardar en un archivo la imagen de la gráfica"
      ],
      "execution_count": null,
      "outputs": [
        {
          "output_type": "display_data",
          "data": {
            "image/png": "[encoded data removed]",
            "text/plain": [
              "<Figure size 432x288 with 1 Axes>"
            ]
          },
          "metadata": {
            "tags": [],
            "needs_background": "light"
          }
        }
      ]
    }
  ]
}
